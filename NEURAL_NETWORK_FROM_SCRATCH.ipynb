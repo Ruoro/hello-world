{
  "nbformat": 4,
  "nbformat_minor": 0,
  "metadata": {
    "colab": {
      "name": "NEURAL NETWORK FROM SCRATCH.ipynb",
      "provenance": [],
      "authorship_tag": "ABX9TyP1IyEhVkw0YZ8oUPvHjgC/"
    },
    "kernelspec": {
      "name": "python3",
      "display_name": "Python 3"
    },
    "language_info": {
      "name": "python"
    }
  },
  "cells": [
    {
      "cell_type": "markdown",
      "source": [
        "NEURAL NETWORK \n",
        "\n",
        "> three layes \n",
        "* input\n",
        "* hidden layer\n",
        "* output layer\n",
        "\n",
        "Activation function - "
      ],
      "metadata": {
        "id": "JWlGpb54YDab"
      }
    },
    {
      "cell_type": "markdown",
      "source": [
        "## Kaggle start"
      ],
      "metadata": {
        "id": "aJZZVmUKcpgg"
      }
    },
    {
      "cell_type": "markdown",
      "source": [
        "WE WILL GET THE DATA SET FROM KAGGLE\n",
        "\n",
        "\n",
        "!pip install opendatasets --upgrade --quiet\n",
        "\n",
        "import opendatasets as od\n",
        "\n",
        "dataset_url = 'Enter Kaggle Dataset URL'\n",
        "\n",
        "Upload Kaggle.json file to Colab… (Caution: Do not Share kaggle.json as contains API key of your Kaggle Account)\n",
        "\n",
        "od.download(dataset_url)"
      ],
      "metadata": {
        "id": "ioS01f2-bWTG"
      }
    },
    {
      "cell_type": "code",
      "source": [
        "!pip install opendatasets --upgrade --quiet"
      ],
      "metadata": {
        "id": "JBxmeTZ2YC-n"
      },
      "execution_count": 3,
      "outputs": []
    },
    {
      "cell_type": "code",
      "execution_count": 4,
      "metadata": {
        "id": "X9DpMJKNX71y"
      },
      "outputs": [],
      "source": [
        "import opendatasets as od"
      ]
    },
    {
      "cell_type": "code",
      "source": [
        "dataset_url = 'https://www.kaggle.com/competitions/digit-recognizer/data'"
      ],
      "metadata": {
        "id": "nY38v0NfbjJy"
      },
      "execution_count": 5,
      "outputs": []
    },
    {
      "cell_type": "code",
      "source": [
        "od.download(dataset_url)"
      ],
      "metadata": {
        "colab": {
          "base_uri": "https://localhost:8080/"
        },
        "id": "B7iZ9Bu8bs-8",
        "outputId": "c9e7f26f-2b0d-4305-a2cc-d386d33f334a"
      },
      "execution_count": 7,
      "outputs": [
        {
          "output_type": "stream",
          "name": "stdout",
          "text": [
            "Downloading digit-recognizer.zip to ./digit-recognizer\n"
          ]
        },
        {
          "output_type": "stream",
          "name": "stderr",
          "text": [
            "100%|██████████| 15.3M/15.3M [00:00<00:00, 226MB/s]"
          ]
        },
        {
          "output_type": "stream",
          "name": "stdout",
          "text": [
            "\n",
            "Extracting archive ./digit-recognizer/digit-recognizer.zip to ./digit-recognizer\n"
          ]
        },
        {
          "output_type": "stream",
          "name": "stderr",
          "text": [
            "\n"
          ]
        }
      ]
    },
    {
      "cell_type": "markdown",
      "source": [
        "## BEGINING\n",
        "###IMPORT STUFF"
      ],
      "metadata": {
        "id": "ckLUk7Cxcf7S"
      }
    },
    {
      "cell_type": "code",
      "source": [
        "import numpy as np\n",
        "import pandas as pd\n",
        "from matplotlib import pyplot as plt"
      ],
      "metadata": {
        "id": "X50m7nB4cFga"
      },
      "execution_count": 8,
      "outputs": []
    },
    {
      "cell_type": "code",
      "source": [
        "data = pd.read_csv('/content/digit-recognizer/train.csv')"
      ],
      "metadata": {
        "id": "uPILgLsCc88A"
      },
      "execution_count": 9,
      "outputs": []
    },
    {
      "cell_type": "code",
      "source": [
        "data.head()"
      ],
      "metadata": {
        "colab": {
          "base_uri": "https://localhost:8080/",
          "height": 299
        },
        "id": "O_P7-ltCdI63",
        "outputId": "ea8d63f9-b06d-4547-93ca-53d9d160e527"
      },
      "execution_count": 10,
      "outputs": [
        {
          "output_type": "execute_result",
          "data": {
            "text/plain": [
              "   label  pixel0  pixel1  pixel2  pixel3  pixel4  pixel5  pixel6  pixel7  \\\n",
              "0      1       0       0       0       0       0       0       0       0   \n",
              "1      0       0       0       0       0       0       0       0       0   \n",
              "2      1       0       0       0       0       0       0       0       0   \n",
              "3      4       0       0       0       0       0       0       0       0   \n",
              "4      0       0       0       0       0       0       0       0       0   \n",
              "\n",
              "   pixel8  ...  pixel774  pixel775  pixel776  pixel777  pixel778  pixel779  \\\n",
              "0       0  ...         0         0         0         0         0         0   \n",
              "1       0  ...         0         0         0         0         0         0   \n",
              "2       0  ...         0         0         0         0         0         0   \n",
              "3       0  ...         0         0         0         0         0         0   \n",
              "4       0  ...         0         0         0         0         0         0   \n",
              "\n",
              "   pixel780  pixel781  pixel782  pixel783  \n",
              "0         0         0         0         0  \n",
              "1         0         0         0         0  \n",
              "2         0         0         0         0  \n",
              "3         0         0         0         0  \n",
              "4         0         0         0         0  \n",
              "\n",
              "[5 rows x 785 columns]"
            ],
            "text/html": [
              "\n",
              "  <div id=\"df-aab01ae0-7af6-49d2-8b51-87b7df20f6cf\">\n",
              "    <div class=\"colab-df-container\">\n",
              "      <div>\n",
              "<style scoped>\n",
              "    .dataframe tbody tr th:only-of-type {\n",
              "        vertical-align: middle;\n",
              "    }\n",
              "\n",
              "    .dataframe tbody tr th {\n",
              "        vertical-align: top;\n",
              "    }\n",
              "\n",
              "    .dataframe thead th {\n",
              "        text-align: right;\n",
              "    }\n",
              "</style>\n",
              "<table border=\"1\" class=\"dataframe\">\n",
              "  <thead>\n",
              "    <tr style=\"text-align: right;\">\n",
              "      <th></th>\n",
              "      <th>label</th>\n",
              "      <th>pixel0</th>\n",
              "      <th>pixel1</th>\n",
              "      <th>pixel2</th>\n",
              "      <th>pixel3</th>\n",
              "      <th>pixel4</th>\n",
              "      <th>pixel5</th>\n",
              "      <th>pixel6</th>\n",
              "      <th>pixel7</th>\n",
              "      <th>pixel8</th>\n",
              "      <th>...</th>\n",
              "      <th>pixel774</th>\n",
              "      <th>pixel775</th>\n",
              "      <th>pixel776</th>\n",
              "      <th>pixel777</th>\n",
              "      <th>pixel778</th>\n",
              "      <th>pixel779</th>\n",
              "      <th>pixel780</th>\n",
              "      <th>pixel781</th>\n",
              "      <th>pixel782</th>\n",
              "      <th>pixel783</th>\n",
              "    </tr>\n",
              "  </thead>\n",
              "  <tbody>\n",
              "    <tr>\n",
              "      <th>0</th>\n",
              "      <td>1</td>\n",
              "      <td>0</td>\n",
              "      <td>0</td>\n",
              "      <td>0</td>\n",
              "      <td>0</td>\n",
              "      <td>0</td>\n",
              "      <td>0</td>\n",
              "      <td>0</td>\n",
              "      <td>0</td>\n",
              "      <td>0</td>\n",
              "      <td>...</td>\n",
              "      <td>0</td>\n",
              "      <td>0</td>\n",
              "      <td>0</td>\n",
              "      <td>0</td>\n",
              "      <td>0</td>\n",
              "      <td>0</td>\n",
              "      <td>0</td>\n",
              "      <td>0</td>\n",
              "      <td>0</td>\n",
              "      <td>0</td>\n",
              "    </tr>\n",
              "    <tr>\n",
              "      <th>1</th>\n",
              "      <td>0</td>\n",
              "      <td>0</td>\n",
              "      <td>0</td>\n",
              "      <td>0</td>\n",
              "      <td>0</td>\n",
              "      <td>0</td>\n",
              "      <td>0</td>\n",
              "      <td>0</td>\n",
              "      <td>0</td>\n",
              "      <td>0</td>\n",
              "      <td>...</td>\n",
              "      <td>0</td>\n",
              "      <td>0</td>\n",
              "      <td>0</td>\n",
              "      <td>0</td>\n",
              "      <td>0</td>\n",
              "      <td>0</td>\n",
              "      <td>0</td>\n",
              "      <td>0</td>\n",
              "      <td>0</td>\n",
              "      <td>0</td>\n",
              "    </tr>\n",
              "    <tr>\n",
              "      <th>2</th>\n",
              "      <td>1</td>\n",
              "      <td>0</td>\n",
              "      <td>0</td>\n",
              "      <td>0</td>\n",
              "      <td>0</td>\n",
              "      <td>0</td>\n",
              "      <td>0</td>\n",
              "      <td>0</td>\n",
              "      <td>0</td>\n",
              "      <td>0</td>\n",
              "      <td>...</td>\n",
              "      <td>0</td>\n",
              "      <td>0</td>\n",
              "      <td>0</td>\n",
              "      <td>0</td>\n",
              "      <td>0</td>\n",
              "      <td>0</td>\n",
              "      <td>0</td>\n",
              "      <td>0</td>\n",
              "      <td>0</td>\n",
              "      <td>0</td>\n",
              "    </tr>\n",
              "    <tr>\n",
              "      <th>3</th>\n",
              "      <td>4</td>\n",
              "      <td>0</td>\n",
              "      <td>0</td>\n",
              "      <td>0</td>\n",
              "      <td>0</td>\n",
              "      <td>0</td>\n",
              "      <td>0</td>\n",
              "      <td>0</td>\n",
              "      <td>0</td>\n",
              "      <td>0</td>\n",
              "      <td>...</td>\n",
              "      <td>0</td>\n",
              "      <td>0</td>\n",
              "      <td>0</td>\n",
              "      <td>0</td>\n",
              "      <td>0</td>\n",
              "      <td>0</td>\n",
              "      <td>0</td>\n",
              "      <td>0</td>\n",
              "      <td>0</td>\n",
              "      <td>0</td>\n",
              "    </tr>\n",
              "    <tr>\n",
              "      <th>4</th>\n",
              "      <td>0</td>\n",
              "      <td>0</td>\n",
              "      <td>0</td>\n",
              "      <td>0</td>\n",
              "      <td>0</td>\n",
              "      <td>0</td>\n",
              "      <td>0</td>\n",
              "      <td>0</td>\n",
              "      <td>0</td>\n",
              "      <td>0</td>\n",
              "      <td>...</td>\n",
              "      <td>0</td>\n",
              "      <td>0</td>\n",
              "      <td>0</td>\n",
              "      <td>0</td>\n",
              "      <td>0</td>\n",
              "      <td>0</td>\n",
              "      <td>0</td>\n",
              "      <td>0</td>\n",
              "      <td>0</td>\n",
              "      <td>0</td>\n",
              "    </tr>\n",
              "  </tbody>\n",
              "</table>\n",
              "<p>5 rows × 785 columns</p>\n",
              "</div>\n",
              "      <button class=\"colab-df-convert\" onclick=\"convertToInteractive('df-aab01ae0-7af6-49d2-8b51-87b7df20f6cf')\"\n",
              "              title=\"Convert this dataframe to an interactive table.\"\n",
              "              style=\"display:none;\">\n",
              "        \n",
              "  <svg xmlns=\"http://www.w3.org/2000/svg\" height=\"24px\"viewBox=\"0 0 24 24\"\n",
              "       width=\"24px\">\n",
              "    <path d=\"M0 0h24v24H0V0z\" fill=\"none\"/>\n",
              "    <path d=\"M18.56 5.44l.94 2.06.94-2.06 2.06-.94-2.06-.94-.94-2.06-.94 2.06-2.06.94zm-11 1L8.5 8.5l.94-2.06 2.06-.94-2.06-.94L8.5 2.5l-.94 2.06-2.06.94zm10 10l.94 2.06.94-2.06 2.06-.94-2.06-.94-.94-2.06-.94 2.06-2.06.94z\"/><path d=\"M17.41 7.96l-1.37-1.37c-.4-.4-.92-.59-1.43-.59-.52 0-1.04.2-1.43.59L10.3 9.45l-7.72 7.72c-.78.78-.78 2.05 0 2.83L4 21.41c.39.39.9.59 1.41.59.51 0 1.02-.2 1.41-.59l7.78-7.78 2.81-2.81c.8-.78.8-2.07 0-2.86zM5.41 20L4 18.59l7.72-7.72 1.47 1.35L5.41 20z\"/>\n",
              "  </svg>\n",
              "      </button>\n",
              "      \n",
              "  <style>\n",
              "    .colab-df-container {\n",
              "      display:flex;\n",
              "      flex-wrap:wrap;\n",
              "      gap: 12px;\n",
              "    }\n",
              "\n",
              "    .colab-df-convert {\n",
              "      background-color: #E8F0FE;\n",
              "      border: none;\n",
              "      border-radius: 50%;\n",
              "      cursor: pointer;\n",
              "      display: none;\n",
              "      fill: #1967D2;\n",
              "      height: 32px;\n",
              "      padding: 0 0 0 0;\n",
              "      width: 32px;\n",
              "    }\n",
              "\n",
              "    .colab-df-convert:hover {\n",
              "      background-color: #E2EBFA;\n",
              "      box-shadow: 0px 1px 2px rgba(60, 64, 67, 0.3), 0px 1px 3px 1px rgba(60, 64, 67, 0.15);\n",
              "      fill: #174EA6;\n",
              "    }\n",
              "\n",
              "    [theme=dark] .colab-df-convert {\n",
              "      background-color: #3B4455;\n",
              "      fill: #D2E3FC;\n",
              "    }\n",
              "\n",
              "    [theme=dark] .colab-df-convert:hover {\n",
              "      background-color: #434B5C;\n",
              "      box-shadow: 0px 1px 3px 1px rgba(0, 0, 0, 0.15);\n",
              "      filter: drop-shadow(0px 1px 2px rgba(0, 0, 0, 0.3));\n",
              "      fill: #FFFFFF;\n",
              "    }\n",
              "  </style>\n",
              "\n",
              "      <script>\n",
              "        const buttonEl =\n",
              "          document.querySelector('#df-aab01ae0-7af6-49d2-8b51-87b7df20f6cf button.colab-df-convert');\n",
              "        buttonEl.style.display =\n",
              "          google.colab.kernel.accessAllowed ? 'block' : 'none';\n",
              "\n",
              "        async function convertToInteractive(key) {\n",
              "          const element = document.querySelector('#df-aab01ae0-7af6-49d2-8b51-87b7df20f6cf');\n",
              "          const dataTable =\n",
              "            await google.colab.kernel.invokeFunction('convertToInteractive',\n",
              "                                                     [key], {});\n",
              "          if (!dataTable) return;\n",
              "\n",
              "          const docLinkHtml = 'Like what you see? Visit the ' +\n",
              "            '<a target=\"_blank\" href=https://colab.research.google.com/notebooks/data_table.ipynb>data table notebook</a>'\n",
              "            + ' to learn more about interactive tables.';\n",
              "          element.innerHTML = '';\n",
              "          dataTable['output_type'] = 'display_data';\n",
              "          await google.colab.output.renderOutput(dataTable, element);\n",
              "          const docLink = document.createElement('div');\n",
              "          docLink.innerHTML = docLinkHtml;\n",
              "          element.appendChild(docLink);\n",
              "        }\n",
              "      </script>\n",
              "    </div>\n",
              "  </div>\n",
              "  "
            ]
          },
          "metadata": {},
          "execution_count": 10
        }
      ]
    },
    {
      "cell_type": "markdown",
      "source": [
        "we want to work with numpy array  so "
      ],
      "metadata": {
        "id": "cpxvM5JKdXQF"
      }
    },
    {
      "cell_type": "code",
      "source": [
        "data = np.array(data)"
      ],
      "metadata": {
        "id": "Y0EYk_ZpdKae"
      },
      "execution_count": 11,
      "outputs": []
    },
    {
      "cell_type": "markdown",
      "source": [
        "So now we need to split the data  to avoid overfitting"
      ],
      "metadata": {
        "id": "kLvV0r6YdhC3"
      }
    },
    {
      "cell_type": "code",
      "source": [
        " m, n = data.shape\n",
        "\n",
        " # shuffle the data before spliting\n",
        "np.random.shuffle(data)\n",
        "\n",
        "# actual split\n",
        "data_dev = data[0:1000].T\n",
        "Y_dev = data_dev[0]\n",
        "X_dev = data_dev[1:n]\n",
        "X_dev = X_dev / 255.\n",
        "\n",
        "# training data\n",
        "data_train = data[1000:m].T\n",
        "Y_train = data_train[0]\n",
        "X_train = data_train[1:n]\n",
        "X_train = X_train / 255.\n",
        "_, m_train = X_train.shape\n"
      ],
      "metadata": {
        "id": "I0aRGSLzddoA"
      },
      "execution_count": 27,
      "outputs": []
    },
    {
      "cell_type": "code",
      "source": [
        "X_train"
      ],
      "metadata": {
        "colab": {
          "base_uri": "https://localhost:8080/"
        },
        "id": "q1Z-LFidz_CU",
        "outputId": "32d5a7a8-1a63-4b47-93db-bdd4dc8ffcba"
      },
      "execution_count": 32,
      "outputs": [
        {
          "output_type": "execute_result",
          "data": {
            "text/plain": [
              "array([[0., 0., 0., ..., 0., 0., 0.],\n",
              "       [0., 0., 0., ..., 0., 0., 0.],\n",
              "       [0., 0., 0., ..., 0., 0., 0.],\n",
              "       ...,\n",
              "       [0., 0., 0., ..., 0., 0., 0.],\n",
              "       [0., 0., 0., ..., 0., 0., 0.],\n",
              "       [0., 0., 0., ..., 0., 0., 0.]])"
            ]
          },
          "metadata": {},
          "execution_count": 32
        }
      ]
    },
    {
      "cell_type": "code",
      "source": [
        "def init_params():\n",
        "    W1 = np.random.rand(10, 784) - 0.5\n",
        "    b1 = np.random.rand(10, 1) - 0.5\n",
        "    W2 = np.random.rand(10, 10) - 0.5\n",
        "    b2 = np.random.rand(10, 1) - 0.5\n",
        "    return W1, b1, W2, b2\n",
        "\n",
        "def ReLU(Z):\n",
        "    return np.maximum(Z, 0)\n",
        "\n",
        "def softmax(Z):\n",
        "    A = np.exp(Z) / sum(np.exp(Z))\n",
        "    return A\n",
        "    \n",
        "def forward_prop(W1, b1, W2, b2, X):\n",
        "    Z1 = W1.dot(X) + b1\n",
        "    A1 = ReLU(Z1)\n",
        "    Z2 = W2.dot(A1) + b2\n",
        "    A2 = softmax(Z2)\n",
        "    return Z1, A1, Z2, A2\n",
        "\n",
        "def ReLU_deriv(Z):\n",
        "    return Z > 0\n",
        "\n",
        "def one_hot(Y):\n",
        "    one_hot_Y = np.zeros((Y.size, Y.max() + 1))\n",
        "    one_hot_Y[np.arange(Y.size), Y] = 1\n",
        "    one_hot_Y = one_hot_Y.T\n",
        "    return one_hot_Y\n",
        "\n",
        "def backward_prop(Z1, A1, Z2, A2, W1, W2, X, Y):\n",
        "    one_hot_Y = one_hot(Y)\n",
        "    dZ2 = A2 - one_hot_Y\n",
        "    dW2 = 1 / m * dZ2.dot(A1.T)\n",
        "    db2 = 1 / m * np.sum(dZ2)\n",
        "    dZ1 = W2.T.dot(dZ2) * ReLU_deriv(Z1)\n",
        "    dW1 = 1 / m * dZ1.dot(X.T)\n",
        "    db1 = 1 / m * np.sum(dZ1)\n",
        "    return dW1, db1, dW2, db2\n",
        "\n",
        "def update_params(W1, b1, W2, b2, dW1, db1, dW2, db2, alpha):\n",
        "    W1 = W1 - alpha * dW1\n",
        "    b1 = b1 - alpha * db1    \n",
        "    W2 = W2 - alpha * dW2  \n",
        "    b2 = b2 - alpha * db2    \n",
        "    return W1, b1, W2, b2"
      ],
      "metadata": {
        "id": "f9E7HY-Lfv7i"
      },
      "execution_count": 38,
      "outputs": []
    },
    {
      "cell_type": "code",
      "source": [
        "def get_predictions(A2):\n",
        "    return np.argmax(A2, 0)\n",
        "\n",
        "def get_accuracy(predictions, Y):\n",
        "    print(predictions, Y)\n",
        "    return np.sum(predictions == Y) / Y.size\n",
        "\n",
        "def gradient_descent(X, Y, alpha, iterations):\n",
        "    W1, b1, W2, b2 = init_params()\n",
        "    for i in range(iterations):\n",
        "        Z1, A1, Z2, A2 = forward_prop(W1, b1, W2, b2, X)\n",
        "        dW1, db1, dW2, db2 = backward_prop(Z1, A1, Z2, A2, W1, W2, X, Y)\n",
        "        W1, b1, W2, b2 = update_params(W1, b1, W2, b2, dW1, db1, dW2, db2, alpha)\n",
        "        if i % 10 == 0:\n",
        "            print(\"Iteration: \", i)\n",
        "            predictions = get_predictions(A2)\n",
        "            print(get_accuracy(predictions, Y))\n",
        "    return W1, b1, W2, b2\n",
        "\n"
      ],
      "metadata": {
        "id": "9peoRWV1fy5J"
      },
      "execution_count": 37,
      "outputs": []
    },
    {
      "cell_type": "code",
      "source": [
        "W1, b1, W2, b2 = gradient_descent(X_train, Y_train, 0.10, 500)"
      ],
      "metadata": {
        "colab": {
          "base_uri": "https://localhost:8080/"
        },
        "id": "NPaKsyvoujWl",
        "outputId": "5bde05bc-5196-47b6-a166-10b9c0317e5b"
      },
      "execution_count": 39,
      "outputs": [
        {
          "output_type": "stream",
          "name": "stdout",
          "text": [
            "Iteration:  470\n",
            "[7 5 4 ... 9 5 6] [7 5 4 ... 9 5 6]\n",
            "0.8430731707317073\n",
            "Iteration:  480\n",
            "[7 5 4 ... 9 5 6] [7 5 4 ... 9 5 6]\n",
            "0.8447560975609756\n",
            "Iteration:  490\n",
            "[7 5 4 ... 9 5 6] [7 5 4 ... 9 5 6]\n",
            "0.846390243902439\n"
          ]
        }
      ]
    },
    {
      "cell_type": "code",
      "source": [
        ""
      ],
      "metadata": {
        "id": "YkP04xVlxObW"
      },
      "execution_count": null,
      "outputs": []
    },
    {
      "cell_type": "code",
      "source": [
        "def make_predictions(X, W1, b1, W2, b2):\n",
        "    _, _, _, A2 = forward_prop(W1, b1, W2, b2, X)\n",
        "    predictions = get_predictions(A2)\n",
        "    return predictions\n",
        "\n",
        "def test_prediction(index, W1, b1, W2, b2):\n",
        "    current_image = X_train[:, index, None]\n",
        "    prediction = make_predictions(X_train[:, index, None], W1, b1, W2, b2)\n",
        "    label = Y_train[index]\n",
        "    print(\"Prediction: \", prediction)\n",
        "    print(\"Label: \", label)\n",
        "    \n",
        "    current_image = current_image.reshape((28, 28)) * 255\n",
        "    plt.gray()\n",
        "    plt.imshow(current_image, interpolation='nearest')\n",
        "    plt.show()"
      ],
      "metadata": {
        "id": "74xnw4bCxOX-"
      },
      "execution_count": 42,
      "outputs": []
    },
    {
      "cell_type": "code",
      "source": [
        "test_prediction(3, W1, b1, W2, b2)"
      ],
      "metadata": {
        "colab": {
          "base_uri": "https://localhost:8080/",
          "height": 302
        },
        "id": "xX1XTO4Rybh9",
        "outputId": "173c4bcc-028e-47bc-b02c-4dba1bf19a0f"
      },
      "execution_count": 44,
      "outputs": [
        {
          "output_type": "stream",
          "name": "stdout",
          "text": [
            "Prediction:  [6]\n",
            "Label:  6\n"
          ]
        },
        {
          "output_type": "display_data",
          "data": {
            "text/plain": [
              "<Figure size 432x288 with 1 Axes>"
            ],
            "image/png": "[encoded data removed]"
          },
          "metadata": {
            "needs_background": "light"
          }
        }
      ]
    },
    {
      "cell_type": "code",
      "source": [
        "dev_predictions = make_predictions(X_dev, W1, b1, W2, b2)\n",
        "get_accuracy(dev_predictions, Y_dev)"
      ],
      "metadata": {
        "colab": {
          "base_uri": "https://localhost:8080/"
        },
        "id": "P2JxZYTg4wfC",
        "outputId": "9f54e989-c2b9-4317-b525-1e4d4bb38f63"
      },
      "execution_count": 45,
      "outputs": [
        {
          "output_type": "stream",
          "name": "stdout",
          "text": [
            "[1 5 6 5 1 9 5 8 1 8 8 2 3 2 2 7 5 9 6 9 1 4 7 0 2 7 6 2 6 8 4 4 6 2 9 9 6\n",
            " 7 0 4 4 0 2 4 6 2 3 2 6 3 4 4 1 8 9 8 1 8 1 7 6 5 3 6 7 7 1 7 1 1 5 6 8 6\n",
            " 3 4 2 3 4 1 7 5 5 6 1 1 3 7 6 7 2 5 7 9 3 4 8 2 2 0 4 4 9 0 6 4 3 7 6 9 2\n",
            " 3 7 3 3 1 4 4 8 5 7 1 4 3 0 1 7 7 8 2 2 2 8 0 2 4 5 2 3 9 9 4 1 1 3 5 7 8\n",
            " 3 9 7 9 4 3 6 8 7 0 1 9 5 5 9 4 6 3 9 3 6 3 3 1 7 3 3 4 1 5 0 1 2 3 4 8 4\n",
            " 3 2 1 1 8 0 8 0 7 8 5 0 3 0 1 1 9 5 0 0 6 7 7 3 8 1 9 5 1 4 2 2 4 0 8 3 6\n",
            " 1 5 4 2 7 6 8 3 4 0 1 4 0 1 3 9 8 4 6 1 6 9 0 8 0 8 0 8 8 9 9 1 5 7 0 7 4\n",
            " 0 9 8 2 5 6 2 7 1 4 1 0 4 6 7 4 3 0 9 4 1 5 5 3 3 2 9 0 7 4 0 6 0 7 5 2 2\n",
            " 7 8 1 3 8 2 6 8 5 6 0 5 3 4 8 6 4 3 7 4 7 2 6 0 2 8 6 9 9 2 4 1 3 7 9 4 1\n",
            " 4 9 1 9 0 0 1 7 5 1 6 0 8 7 0 6 8 2 8 0 8 9 6 1 1 3 9 2 7 3 3 1 7 2 0 4 4\n",
            " 2 2 0 5 4 6 6 9 2 2 2 0 6 9 7 4 9 3 1 9 4 6 0 1 1 6 9 5 2 8 6 2 7 9 3 1 1\n",
            " 2 9 4 4 9 3 5 8 9 4 2 9 1 2 9 3 7 6 6 3 6 9 6 7 9 2 2 9 9 3 3 0 6 9 2 6 3\n",
            " 2 4 3 7 0 7 9 2 2 2 1 6 1 8 0 5 6 1 2 9 6 5 1 4 7 3 2 6 7 6 9 1 1 8 0 5 8\n",
            " 7 6 2 4 0 0 2 3 5 2 5 0 6 7 2 3 6 0 4 5 7 2 0 3 6 1 9 5 8 4 7 9 8 6 9 6 3\n",
            " 0 8 0 2 8 2 8 4 0 7 7 2 6 6 4 3 8 4 6 9 7 4 2 3 1 7 8 5 5 2 8 7 3 4 3 0 7\n",
            " 3 5 0 5 6 1 6 5 8 2 4 6 7 3 3 6 8 4 6 8 7 8 3 4 0 3 2 0 3 4 5 8 4 8 1 5 9\n",
            " 5 3 9 7 2 9 9 4 6 8 3 2 1 5 2 6 3 6 8 5 9 0 9 4 7 0 2 9 5 0 1 7 2 3 0 9 6\n",
            " 2 0 8 1 6 9 0 5 6 5 7 3 4 3 7 0 8 2 4 3 0 2 8 9 3 4 2 4 1 6 6 4 0 7 5 5 3\n",
            " 6 1 0 0 7 2 0 5 0 9 5 1 4 4 2 8 7 9 0 4 1 8 3 0 1 4 9 6 3 4 8 6 1 0 7 9 3\n",
            " 9 3 9 1 5 5 9 6 8 6 6 0 7 6 0 6 8 4 1 1 1 1 7 2 4 5 1 5 4 3 3 9 7 0 7 4 2\n",
            " 2 0 0 2 6 3 7 3 6 9 2 3 1 8 5 1 6 5 7 7 5 0 4 3 8 4 9 7 4 3 2 7 7 5 9 7 2\n",
            " 7 3 1 5 0 0 0 3 8 3 9 9 1 2 7 4 6 6 2 8 3 3 6 0 4 3 3 4 0 1 2 6 3 9 2 8 4\n",
            " 4 1 1 8 9 1 4 1 2 0 9 9 5 8 0 3 4 5 5 3 4 0 9 7 9 4 3 1 2 7 6 6 5 7 8 1 0\n",
            " 9 5 8 2 2 1 8 1 7 1 1 9 9 4 7 1 5 0 6 1 7 7 8 2 4 0 3 7 9 6 0 0 5 7 8 6 7\n",
            " 1 9 1 4 2 5 4 9 7 7 8 5 7 9 9 9 9 1 0 6 4 4 5 3 1 7 0 6 7 4 1 3 4 3 0 7 9\n",
            " 4 9 8 8 0 3 1 4 6 4 0 2 0 6 5 4 8 5 1 2 9 5 5 2 6 9 7 1 8 6 1 5 4 7 6 7 7\n",
            " 7 4 7 6 3 6 2 8 5 8 9 5 2 9 6 2 4 8 1 4 7 7 5 6 7 2 9 5 8 1 4 6 7 9 0 8 4\n",
            " 1] [1 0 6 3 1 9 3 8 1 8 8 2 5 2 2 7 4 9 6 9 1 4 7 0 2 7 4 2 4 8 4 4 6 2 9 9 6\n",
            " 7 0 9 4 0 0 4 6 2 3 2 6 5 4 4 1 8 9 3 1 8 1 7 6 5 3 6 7 3 1 7 1 1 5 6 3 6\n",
            " 3 4 2 3 4 1 7 5 5 6 1 1 3 7 6 4 2 5 7 9 3 4 8 2 2 0 4 4 9 0 6 4 1 7 6 4 2\n",
            " 2 7 3 5 1 4 4 8 8 7 1 4 3 0 1 7 7 5 2 2 5 8 0 2 4 5 2 3 9 8 4 1 1 3 5 7 8\n",
            " 3 9 9 9 4 3 5 8 7 0 1 9 3 5 9 4 6 3 9 3 6 3 3 1 7 3 8 4 1 5 0 1 2 3 4 2 4\n",
            " 5 2 1 1 8 0 5 0 7 8 5 0 3 0 1 1 9 5 0 0 6 7 7 3 8 1 9 5 1 4 2 2 4 0 8 3 6\n",
            " 1 5 4 2 7 6 8 3 4 0 1 4 0 1 3 9 8 4 6 1 6 9 0 8 0 8 0 8 8 4 4 1 5 7 8 9 9\n",
            " 0 9 8 2 5 6 2 7 1 4 1 6 4 6 7 4 3 0 7 4 1 5 5 7 3 2 9 2 7 4 0 6 0 7 5 2 2\n",
            " 7 2 1 3 8 5 6 8 5 6 0 5 3 4 8 6 4 3 7 4 7 2 6 0 2 8 6 9 9 2 4 2 3 7 4 4 1\n",
            " 7 9 1 9 0 0 1 7 5 1 6 0 8 7 0 6 8 2 8 0 8 9 6 1 1 3 4 2 7 5 3 1 7 2 0 6 4\n",
            " 9 2 4 5 4 6 6 9 2 2 8 0 6 9 7 4 9 3 1 9 4 6 0 1 1 6 9 5 2 5 6 2 7 9 3 1 1\n",
            " 7 7 9 4 8 3 5 8 9 4 2 9 1 2 4 3 7 6 6 3 6 4 6 7 9 2 2 9 9 3 3 0 6 9 2 6 3\n",
            " 2 4 3 7 0 7 9 2 2 2 1 4 1 8 9 5 6 1 2 9 6 5 1 4 7 3 2 6 7 6 9 1 1 2 6 5 8\n",
            " 7 6 2 4 0 0 2 3 5 2 5 0 6 7 2 3 6 0 4 5 7 2 0 9 6 1 4 5 8 4 7 7 2 6 9 0 3\n",
            " 0 8 0 2 8 2 1 4 0 7 7 7 6 6 4 5 5 4 2 9 7 4 2 3 1 7 1 5 8 3 4 7 3 4 3 0 8\n",
            " 3 5 0 8 9 8 6 5 8 2 4 6 7 3 3 6 8 4 6 3 7 8 3 9 0 3 2 0 3 4 5 8 4 8 1 5 9\n",
            " 5 3 9 7 2 9 9 3 6 1 5 2 1 8 2 6 3 6 8 5 9 0 9 4 7 0 2 9 5 0 1 7 0 3 0 9 6\n",
            " 2 0 8 1 6 9 0 5 6 5 7 3 6 7 7 0 0 3 6 3 0 2 8 9 3 4 7 4 1 6 6 4 0 7 5 5 5\n",
            " 6 1 0 0 7 2 0 5 0 9 5 1 4 4 2 8 7 9 0 4 1 6 3 0 1 4 9 6 3 4 5 6 1 8 7 9 7\n",
            " 3 8 4 1 5 5 9 6 8 6 6 5 7 6 0 6 3 4 1 1 1 1 7 2 4 5 1 5 4 3 3 9 7 0 1 4 2\n",
            " 2 0 6 2 6 3 7 5 6 4 2 3 1 8 6 1 6 5 7 7 5 0 4 3 8 4 9 9 8 3 2 7 7 5 9 7 7\n",
            " 7 3 1 5 0 0 0 3 8 3 9 9 7 2 7 4 6 6 0 8 3 3 6 0 4 3 3 4 0 2 2 6 5 4 2 8 4\n",
            " 4 1 1 8 7 1 4 1 2 0 9 9 5 3 0 3 4 5 5 3 4 0 9 7 9 4 3 1 7 7 6 8 5 7 8 1 0\n",
            " 9 3 5 2 2 1 8 1 7 1 1 4 9 4 7 1 5 0 4 1 7 7 8 2 4 0 3 7 9 6 6 0 8 9 6 6 7\n",
            " 5 9 1 4 2 5 4 9 7 7 8 8 7 9 9 3 9 1 0 6 4 4 3 3 1 3 0 6 7 4 1 3 9 3 0 7 9\n",
            " 4 9 8 8 0 3 1 4 6 4 0 2 0 6 5 4 8 8 2 2 9 5 5 5 6 4 1 1 5 6 1 3 4 7 6 7 7\n",
            " 7 8 7 6 8 6 2 8 5 8 9 5 2 9 6 2 6 8 1 4 7 7 5 6 7 2 9 1 8 1 4 6 7 9 0 8 4\n",
            " 2]\n"
          ]
        },
        {
          "output_type": "execute_result",
          "data": {
            "text/plain": [
              "0.856"
            ]
          },
          "metadata": {},
          "execution_count": 45
        }
      ]
    },
    {
      "cell_type": "code",
      "source": [
        ""
      ],
      "metadata": {
        "id": "qXglFPDs5_f-"
      },
      "execution_count": null,
      "outputs": []
    }
  ]
}