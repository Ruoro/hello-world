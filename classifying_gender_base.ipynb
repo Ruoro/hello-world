{
  "metadata": {
    "kernelspec": {
      "language": "python",
      "display_name": "Python 3",
      "name": "python3"
    },
    "language_info": {
      "name": "python",
      "version": "3.7.12",
      "mimetype": "text/x-python",
      "codemirror_mode": {
        "name": "ipython",
        "version": 3
      },
      "pygments_lexer": "ipython3",
      "nbconvert_exporter": "python",
      "file_extension": ".py"
    },
    "colab": {
      "name": "classifying-gender-base.ipynb",
      "provenance": [],
      "include_colab_link": true
    }
  },
  "nbformat_minor": 0,
  "nbformat": 4,
  "cells": [
    {
      "cell_type": "markdown",
      "metadata": {
        "id": "view-in-github",
        "colab_type": "text"
      },
      "source": [
        "<a href=\"https://colab.research.google.com/github/Ruoro/hello-world/blob/main/classifying_gender_base.ipynb\" target=\"_parent\"><img src=\"https://colab.research.google.com/assets/colab-badge.svg\" alt=\"Open In Colab\"/></a>"
      ]
    },
    {
      "cell_type": "code",
      "source": [
        "import numpy as np # linear algebra\n",
        "import pandas as pd # data processing, CSV file I/O (e.g. pd.read_csv)\n",
        "\n",
        "# Input data files are available in the read-only \"../input/\" directory\n",
        "# For example, running this (by clicking run or pressing Shift+Enter) will list all files under the input directory\n",
        "\n",
        "# import os\n",
        "# # for dirname, _, filenames in os.walk('/kaggle/input'):\n",
        "# #     for filename in filenames:\n",
        "# #         print(os.path.join(dirname, filename))\n",
        "\n"
      ],
      "metadata": {
        "_uuid": "8f2839f25d086af736a60e9eeb907d3b93b6e0e5",
        "_cell_guid": "b1076dfc-b9ad-4769-8c92-a6c4dae69d19",
        "execution": {
          "iopub.status.busy": "2022-07-08T04:05:38.638874Z",
          "iopub.execute_input": "2022-07-08T04:05:38.639592Z",
          "iopub.status.idle": "2022-07-08T04:05:38.650513Z",
          "shell.execute_reply.started": "2022-07-08T04:05:38.639496Z",
          "shell.execute_reply": "2022-07-08T04:05:38.649495Z"
        },
        "trusted": true,
        "id": "Sr48vyrKB8rS"
      },
      "execution_count": null,
      "outputs": []
    },
    {
      "cell_type": "code",
      "source": [
        "## Importing libraries and dataset\n",
        "\n",
        "import os\n",
        "import torch\n",
        "import torchvision\n",
        "import pandas as pd\n",
        "import torch.nn as nn\n",
        "from tqdm.notebook import tqdm\n",
        "import matplotlib.pyplot as plt\n",
        "import torch.nn.functional as F\n",
        "from torch.utils.data import Dataset\n",
        "import torchvision.models as models\n",
        "from torch.utils.data import DataLoader\n",
        "from torch.utils.data import random_split\n",
        "from torchvision.utils import make_grid\n",
        "\n",
        "import torchvision.transforms as transforms\n",
        "from torchvision.datasets.folder import default_loader\n",
        "%matplotlib inline\n"
      ],
      "metadata": {
        "execution": {
          "iopub.status.busy": "2022-07-08T04:05:38.672905Z",
          "iopub.execute_input": "2022-07-08T04:05:38.673217Z",
          "iopub.status.idle": "2022-07-08T04:05:39.309036Z",
          "shell.execute_reply.started": "2022-07-08T04:05:38.673190Z",
          "shell.execute_reply": "2022-07-08T04:05:39.308025Z"
        },
        "trusted": true,
        "id": "9rSow5q_B8rX"
      },
      "execution_count": null,
      "outputs": []
    },
    {
      "cell_type": "code",
      "source": [
        "data_dir = '/kaggle/input/gender-classification-dataset/'"
      ],
      "metadata": {
        "execution": {
          "iopub.status.busy": "2022-07-08T04:05:39.311125Z",
          "iopub.execute_input": "2022-07-08T04:05:39.311676Z",
          "iopub.status.idle": "2022-07-08T04:05:39.316489Z",
          "shell.execute_reply.started": "2022-07-08T04:05:39.311637Z",
          "shell.execute_reply": "2022-07-08T04:05:39.315407Z"
        },
        "trusted": true,
        "id": "S3wy6rK3B8rY"
      },
      "execution_count": null,
      "outputs": []
    },
    {
      "cell_type": "code",
      "source": [
        "#Let’s check the folders in the dataset and classes in each folder\n",
        "print(os.listdir(data_dir))\n",
        "classes = os.listdir(data_dir + \"/Training\")\n",
        "print(classes)"
      ],
      "metadata": {
        "execution": {
          "iopub.status.busy": "2022-07-08T04:05:39.318126Z",
          "iopub.execute_input": "2022-07-08T04:05:39.318810Z",
          "iopub.status.idle": "2022-07-08T04:05:39.330568Z",
          "shell.execute_reply.started": "2022-07-08T04:05:39.318772Z",
          "shell.execute_reply": "2022-07-08T04:05:39.329417Z"
        },
        "trusted": true,
        "id": "D8Czi_4aB8rY"
      },
      "execution_count": null,
      "outputs": []
    },
    {
      "cell_type": "code",
      "source": [
        "# Lets check the number of images in each class of the Training folder\n",
        "male_files = os.listdir(data_dir + \"Training/male\")\n",
        "print('No. of training examples of male:', len(male_files))\n",
        "print(male_files[:5])"
      ],
      "metadata": {
        "execution": {
          "iopub.status.busy": "2022-07-08T04:05:39.334453Z",
          "iopub.execute_input": "2022-07-08T04:05:39.334868Z",
          "iopub.status.idle": "2022-07-08T04:05:39.349663Z",
          "shell.execute_reply.started": "2022-07-08T04:05:39.334832Z",
          "shell.execute_reply": "2022-07-08T04:05:39.348620Z"
        },
        "trusted": true,
        "id": "RSR7ckn9B8rZ"
      },
      "execution_count": null,
      "outputs": []
    },
    {
      "cell_type": "code",
      "source": [
        "female_files = os.listdir(data_dir + \"Training/female\")\n",
        "print('No. of training examples for female:', len(female_files))\n",
        "print(female_files[:5])"
      ],
      "metadata": {
        "execution": {
          "iopub.status.busy": "2022-07-08T04:05:39.351150Z",
          "iopub.execute_input": "2022-07-08T04:05:39.351516Z",
          "iopub.status.idle": "2022-07-08T04:05:39.368527Z",
          "shell.execute_reply.started": "2022-07-08T04:05:39.351480Z",
          "shell.execute_reply": "2022-07-08T04:05:39.367625Z"
        },
        "trusted": true,
        "id": "VJ3A0HbEB8rZ"
      },
      "execution_count": null,
      "outputs": []
    },
    {
      "cell_type": "markdown",
      "source": [
        "We can use the ImageFolder class from torchvision to load the data as PyTorch tensors."
      ],
      "metadata": {
        "id": "sb9S3bVnB8ra"
      }
    },
    {
      "cell_type": "code",
      "source": [
        "from torchvision.datasets import ImageFolder\n",
        "from torchvision.transforms import ToTensor"
      ],
      "metadata": {
        "execution": {
          "iopub.status.busy": "2022-07-08T04:05:39.369775Z",
          "iopub.execute_input": "2022-07-08T04:05:39.370738Z",
          "iopub.status.idle": "2022-07-08T04:05:39.375322Z",
          "shell.execute_reply.started": "2022-07-08T04:05:39.370689Z",
          "shell.execute_reply": "2022-07-08T04:05:39.374265Z"
        },
        "trusted": true,
        "id": "KnWVwIqkB8rb"
      },
      "execution_count": null,
      "outputs": []
    },
    {
      "cell_type": "markdown",
      "source": [
        "## Exploring the Dataset"
      ],
      "metadata": {
        "id": "G-_mYK_jB8rc"
      }
    },
    {
      "cell_type": "code",
      "source": [
        ""
      ],
      "metadata": {
        "id": "CCEzu1uBB8rd"
      },
      "execution_count": null,
      "outputs": []
    },
    {
      "cell_type": "markdown",
      "source": [
        "## Defining Training and Validation Dataset"
      ],
      "metadata": {
        "id": "OPVZ18ylB8rd"
      }
    },
    {
      "cell_type": "markdown",
      "source": [
        ""
      ],
      "metadata": {
        "id": "cz_vKeCKB8rd"
      }
    },
    {
      "cell_type": "code",
      "source": [
        "# Resize transform to size 64 by 64\n",
        "transform_face = transforms.Compose([\n",
        "        #transforms.ToPILImage(),\n",
        "        transforms.Resize([64,64]),\n",
        "        transforms.ToTensor(),\n",
        "])\n",
        "\n",
        "train_ds = ImageFolder(data_dir+'Training', transform=transform_face)"
      ],
      "metadata": {
        "execution": {
          "iopub.status.busy": "2022-07-08T04:05:39.376757Z",
          "iopub.execute_input": "2022-07-08T04:05:39.378285Z",
          "iopub.status.idle": "2022-07-08T04:05:52.379002Z",
          "shell.execute_reply.started": "2022-07-08T04:05:39.378244Z",
          "shell.execute_reply": "2022-07-08T04:05:52.378008Z"
        },
        "trusted": true,
        "id": "z0xGFfAFB8rd"
      },
      "execution_count": null,
      "outputs": []
    },
    {
      "cell_type": "code",
      "source": [
        "# Let's check the shape of the image tensor of the training dataset\n",
        "img, label = train_ds[2]\n",
        "print(img.shape, label)\n",
        "img\n"
      ],
      "metadata": {
        "execution": {
          "iopub.status.busy": "2022-07-08T04:05:52.380555Z",
          "iopub.execute_input": "2022-07-08T04:05:52.380937Z",
          "iopub.status.idle": "2022-07-08T04:05:52.399910Z",
          "shell.execute_reply.started": "2022-07-08T04:05:52.380898Z",
          "shell.execute_reply": "2022-07-08T04:05:52.398901Z"
        },
        "trusted": true,
        "id": "SLaLIv71B8re"
      },
      "execution_count": null,
      "outputs": []
    },
    {
      "cell_type": "code",
      "source": [
        "# List of classes is stored in.classes property of the dataset\n",
        "print(train_ds.classes)"
      ],
      "metadata": {
        "execution": {
          "iopub.status.busy": "2022-07-08T04:05:52.401642Z",
          "iopub.execute_input": "2022-07-08T04:05:52.402029Z",
          "iopub.status.idle": "2022-07-08T04:05:52.407491Z",
          "shell.execute_reply.started": "2022-07-08T04:05:52.401992Z",
          "shell.execute_reply": "2022-07-08T04:05:52.406527Z"
        },
        "trusted": true,
        "id": "t7aW1OUMB8re"
      },
      "execution_count": null,
      "outputs": []
    },
    {
      "cell_type": "code",
      "source": [
        "# function to display the image and its coressponding label\n",
        "def show_example(img, label):\n",
        "    print('Label: ', train_ds.classes[label], \"(\"+str(label)+\")\")\n",
        "    plt.imshow(img.permute(1, 2, 0))"
      ],
      "metadata": {
        "execution": {
          "iopub.status.busy": "2022-07-08T04:05:52.412839Z",
          "iopub.execute_input": "2022-07-08T04:05:52.413534Z",
          "iopub.status.idle": "2022-07-08T04:05:52.419587Z",
          "shell.execute_reply.started": "2022-07-08T04:05:52.413495Z",
          "shell.execute_reply": "2022-07-08T04:05:52.418677Z"
        },
        "trusted": true,
        "id": "5WRVQJfDB8re"
      },
      "execution_count": null,
      "outputs": []
    },
    {
      "cell_type": "code",
      "source": [
        "# Test the function\n",
        "show_example(*train_ds[10])"
      ],
      "metadata": {
        "execution": {
          "iopub.status.busy": "2022-07-08T04:05:52.420678Z",
          "iopub.execute_input": "2022-07-08T04:05:52.421501Z",
          "iopub.status.idle": "2022-07-08T04:05:52.603575Z",
          "shell.execute_reply.started": "2022-07-08T04:05:52.421464Z",
          "shell.execute_reply": "2022-07-08T04:05:52.602476Z"
        },
        "trusted": true,
        "id": "ayw59kT8B8re"
      },
      "execution_count": null,
      "outputs": []
    },
    {
      "cell_type": "code",
      "source": [
        "# Validation data definition\n",
        "\n",
        "val_ds = ImageFolder(data_dir+'Validation', transform=transform_face)\n"
      ],
      "metadata": {
        "execution": {
          "iopub.status.busy": "2022-07-08T04:05:52.605162Z",
          "iopub.execute_input": "2022-07-08T04:05:52.605817Z",
          "iopub.status.idle": "2022-07-08T04:05:55.006089Z",
          "shell.execute_reply.started": "2022-07-08T04:05:52.605776Z",
          "shell.execute_reply": "2022-07-08T04:05:55.005096Z"
        },
        "trusted": true,
        "id": "yNNQYyxAB8rf"
      },
      "execution_count": null,
      "outputs": []
    },
    {
      "cell_type": "code",
      "source": [
        "# Let's create data loaders to help us load the data in batches of 50\n",
        "batch_size = 50\n",
        "\n",
        "train_dl = DataLoader(train_ds, batch_size, shuffle=True, num_workers=4, pin_memory=True)\n",
        "val_dl = DataLoader(val_ds, batch_size*2, num_workers=4, pin_memory=True)"
      ],
      "metadata": {
        "execution": {
          "iopub.status.busy": "2022-07-08T04:06:22.051399Z",
          "iopub.execute_input": "2022-07-08T04:06:22.051784Z",
          "iopub.status.idle": "2022-07-08T04:06:22.057992Z",
          "shell.execute_reply.started": "2022-07-08T04:06:22.051749Z",
          "shell.execute_reply": "2022-07-08T04:06:22.057011Z"
        },
        "trusted": true,
        "id": "xKHub6okB8rf"
      },
      "execution_count": null,
      "outputs": []
    },
    {
      "cell_type": "markdown",
      "source": [
        "## Defining the Model (Convolutional Neural Network)"
      ],
      "metadata": {
        "id": "3SPffyDJB8rf"
      }
    },
    {
      "cell_type": "code",
      "source": [
        "class ImageClassificationBase(nn.Module):\n",
        "    def training_step(self, batch):\n",
        "        images, labels = batch \n",
        "        out = self(images)                  # Generate predictions\n",
        "        loss = F.cross_entropy(out, labels) # Calculate loss\n",
        "        return loss\n",
        "    \n",
        "    def validation_step(self, batch):\n",
        "        images, labels = batch \n",
        "        out = self(images)                    # Generate predictions\n",
        "        loss = F.cross_entropy(out, labels)   # Calculate loss\n",
        "        acc = accuracy(out, labels)           # Calculate accuracy\n",
        "        return {'val_loss': loss.detach(), 'val_acc': acc}\n",
        "        \n",
        "    def validation_epoch_end(self, outputs):\n",
        "        batch_losses = [x['val_loss'] for x in outputs]\n",
        "        epoch_loss = torch.stack(batch_losses).mean()   # Combine losses\n",
        "        batch_accs = [x['val_acc'] for x in outputs]\n",
        "        epoch_acc = torch.stack(batch_accs).mean()      # Combine accuracies\n",
        "        return {'val_loss': epoch_loss.item(), 'val_acc': epoch_acc.item()}\n",
        "    \n",
        "    def epoch_end(self, epoch, result):\n",
        "        print(\"Epoch [{}], train_loss: {:.4f}, val_loss: {:.4f}, val_acc: {:.4f}\".format(\n",
        "            epoch, result['train_loss'], result['val_loss'], result['val_acc']))\n",
        "        \n",
        "def accuracy(outputs, labels):\n",
        "    _, preds = torch.max(outputs, dim=1)\n",
        "    return torch.tensor(torch.sum(preds == labels).item() / len(preds))"
      ],
      "metadata": {
        "execution": {
          "iopub.status.busy": "2022-07-08T04:06:28.043807Z",
          "iopub.execute_input": "2022-07-08T04:06:28.045282Z",
          "iopub.status.idle": "2022-07-08T04:06:28.056087Z",
          "shell.execute_reply.started": "2022-07-08T04:06:28.045230Z",
          "shell.execute_reply": "2022-07-08T04:06:28.055107Z"
        },
        "trusted": true,
        "id": "zSWVfYrSB8rg"
      },
      "execution_count": null,
      "outputs": []
    },
    {
      "cell_type": "markdown",
      "source": [
        "use nn.Sequential to chain the layers and activations functions into single network architecture"
      ],
      "metadata": {
        "id": "7CZePhMKB8rg"
      }
    },
    {
      "cell_type": "code",
      "source": [
        "class GenderCnnModel(ImageClassificationBase):\n",
        "    def __init__(self):\n",
        "        super().__init__()\n",
        "        self.network = nn.Sequential(\n",
        "            nn.Conv2d(3, 32, kernel_size=3, padding=1),\n",
        "            nn.ReLU(),\n",
        "            nn.Conv2d(32, 64, kernel_size=3, stride=1, padding=1),\n",
        "            nn.ReLU(),\n",
        "            nn.MaxPool2d(2, 2), # output: 32 x 32 x 32\n",
        "\n",
        "            nn.Conv2d(64, 128, kernel_size=3, stride=1, padding=1),\n",
        "            nn.ReLU(),\n",
        "            nn.Conv2d(128, 128, kernel_size=3, stride=1, padding=1),\n",
        "            nn.ReLU(),\n",
        "            nn.MaxPool2d(2, 2), # output: 128 x 16 x 16\n",
        "\n",
        "            nn.Conv2d(128, 128, kernel_size=3, stride=1, padding=1),\n",
        "            nn.ReLU(),\n",
        "            nn.Conv2d(128, 128, kernel_size=3, stride=1, padding=1),\n",
        "            nn.ReLU(),\n",
        "            nn.MaxPool2d(2, 2), # output: 128 x 8 x 8\n",
        "            \n",
        "            nn.Conv2d(128, 256, kernel_size=3, stride=1, padding=1),\n",
        "            nn.ReLU(),\n",
        "            nn.Conv2d(256, 256, kernel_size=3, stride=1, padding=1),\n",
        "            nn.ReLU(),\n",
        "            nn.MaxPool2d(2, 2), # output: 256 x 4 x 4\n",
        "\n",
        "#             nn.Conv2d(128, 256, kernel_size=3, stride=1, padding=1),\n",
        "#             nn.ReLU(),\n",
        "#             nn.Conv2d(256, 256, kernel_size=3, stride=1, padding=1),\n",
        "#             nn.ReLU(),\n",
        "#             nn.MaxPool2d(2, 2), # output: 256 x 4 x 4\n",
        "\n",
        "            nn.Flatten(), \n",
        "            nn.Linear(256*4*4, 1024),\n",
        "            nn.ReLU(),\n",
        "            nn.Linear(1024, 512),\n",
        "            nn.ReLU(),\n",
        "            nn.Linear(512, 10))\n",
        "        \n",
        "    def forward(self, xb):\n",
        "        return self.network(xb)"
      ],
      "metadata": {
        "execution": {
          "iopub.status.busy": "2022-07-08T04:06:29.626032Z",
          "iopub.execute_input": "2022-07-08T04:06:29.627090Z",
          "iopub.status.idle": "2022-07-08T04:06:29.639822Z",
          "shell.execute_reply.started": "2022-07-08T04:06:29.627053Z",
          "shell.execute_reply": "2022-07-08T04:06:29.638872Z"
        },
        "trusted": true,
        "id": "nDRXe2CRB8rg"
      },
      "execution_count": null,
      "outputs": []
    },
    {
      "cell_type": "code",
      "source": [
        "model = GenderCnnModel()"
      ],
      "metadata": {
        "execution": {
          "iopub.status.busy": "2022-07-08T04:06:31.262801Z",
          "iopub.execute_input": "2022-07-08T04:06:31.263508Z",
          "iopub.status.idle": "2022-07-08T04:06:31.319597Z",
          "shell.execute_reply.started": "2022-07-08T04:06:31.263468Z",
          "shell.execute_reply": "2022-07-08T04:06:31.318610Z"
        },
        "trusted": true,
        "id": "-lwYW89qB8rh"
      },
      "execution_count": null,
      "outputs": []
    },
    {
      "cell_type": "markdown",
      "source": [
        "# Training the model"
      ],
      "metadata": {
        "id": "lvUbHxmRB8rh"
      }
    },
    {
      "cell_type": "code",
      "source": [
        "for images, labels in train_dl:\n",
        "    print('images.shape:', images.shape)\n",
        "    out = model(images)\n",
        "    print('out.shape:', out.shape)\n",
        "    print('out[0]:', out[0])\n",
        "    break"
      ],
      "metadata": {
        "execution": {
          "iopub.status.busy": "2022-07-08T04:06:32.859879Z",
          "iopub.execute_input": "2022-07-08T04:06:32.860896Z",
          "iopub.status.idle": "2022-07-08T04:06:34.011370Z",
          "shell.execute_reply.started": "2022-07-08T04:06:32.860854Z",
          "shell.execute_reply": "2022-07-08T04:06:34.010114Z"
        },
        "trusted": true,
        "id": "gIXp3YCjB8rh"
      },
      "execution_count": null,
      "outputs": []
    },
    {
      "cell_type": "code",
      "source": [
        "# helper functions to use GPU\n",
        "def get_default_device():\n",
        "    \"\"\"Pick GPU if available, else CPU\"\"\"\n",
        "    if torch.cuda.is_available():\n",
        "        return torch.device('cuda')\n",
        "    else:\n",
        "        return torch.device('cpu')\n",
        "    \n",
        "def to_device(data, device):\n",
        "    \"\"\"Move tensor(s) to chosen device\"\"\"\n",
        "    if isinstance(data, (list,tuple)):\n",
        "        return [to_device(x, device) for x in data]\n",
        "    return data.to(device, non_blocking=True)\n",
        "\n",
        "class DeviceDataLoader():\n",
        "    \"\"\"Wrap a dataloader to move data to a device\"\"\"\n",
        "    def __init__(self, dl, device):\n",
        "        self.dl = dl\n",
        "        self.device = device\n",
        "        \n",
        "    def __iter__(self):\n",
        "        \"\"\"Yield a batch of data after moving it to device\"\"\"\n",
        "        for b in self.dl: \n",
        "            yield to_device(b, self.device)\n",
        "\n",
        "    def __len__(self):\n",
        "        \"\"\"Number of batches\"\"\"\n",
        "        return len(self.dl)"
      ],
      "metadata": {
        "execution": {
          "iopub.status.busy": "2022-07-08T04:06:35.396118Z",
          "iopub.execute_input": "2022-07-08T04:06:35.398310Z",
          "iopub.status.idle": "2022-07-08T04:06:35.407114Z",
          "shell.execute_reply.started": "2022-07-08T04:06:35.398259Z",
          "shell.execute_reply": "2022-07-08T04:06:35.406082Z"
        },
        "trusted": true,
        "id": "Aps3kTIeB8rh"
      },
      "execution_count": null,
      "outputs": []
    },
    {
      "cell_type": "code",
      "source": [
        "get_default_device()\n"
      ],
      "metadata": {
        "execution": {
          "iopub.status.busy": "2022-07-08T04:06:37.250780Z",
          "iopub.execute_input": "2022-07-08T04:06:37.251468Z",
          "iopub.status.idle": "2022-07-08T04:06:37.258049Z",
          "shell.execute_reply.started": "2022-07-08T04:06:37.251429Z",
          "shell.execute_reply": "2022-07-08T04:06:37.257023Z"
        },
        "trusted": true,
        "id": "0sRZK2zGB8rh"
      },
      "execution_count": null,
      "outputs": []
    },
    {
      "cell_type": "code",
      "source": [
        "device = ('cuda')"
      ],
      "metadata": {
        "execution": {
          "iopub.status.busy": "2022-07-08T04:06:38.252656Z",
          "iopub.execute_input": "2022-07-08T04:06:38.253358Z",
          "iopub.status.idle": "2022-07-08T04:06:38.258592Z",
          "shell.execute_reply.started": "2022-07-08T04:06:38.253321Z",
          "shell.execute_reply": "2022-07-08T04:06:38.256737Z"
        },
        "trusted": true,
        "id": "UC3Y1nIxB8ri"
      },
      "execution_count": null,
      "outputs": []
    },
    {
      "cell_type": "code",
      "source": [
        "train_dl = DeviceDataLoader(train_dl, device)\n",
        "val_dl = DeviceDataLoader(val_dl, device)\n",
        "to_device(model, device);"
      ],
      "metadata": {
        "execution": {
          "iopub.status.busy": "2022-07-08T04:06:40.758150Z",
          "iopub.execute_input": "2022-07-08T04:06:40.758929Z",
          "iopub.status.idle": "2022-07-08T04:06:40.773875Z",
          "shell.execute_reply.started": "2022-07-08T04:06:40.758888Z",
          "shell.execute_reply": "2022-07-08T04:06:40.772629Z"
        },
        "trusted": true,
        "id": "VBMUGxEtB8ri"
      },
      "execution_count": null,
      "outputs": []
    },
    {
      "cell_type": "code",
      "source": [
        "@torch.no_grad()\n",
        "def evaluate(model, val_loader):\n",
        "    model.eval()\n",
        "    outputs = [model.validation_step(batch) for batch in val_loader]\n",
        "    return model.validation_epoch_end(outputs)\n",
        "\n",
        "def fit(epochs, lr, model, train_loader, val_loader, opt_func=torch.optim.SGD):\n",
        "    history = []\n",
        "    optimizer = opt_func(model.parameters(), lr)\n",
        "    for epoch in range(epochs):\n",
        "        # Training Phase \n",
        "        model.train()\n",
        "        train_losses = []\n",
        "        for batch in train_loader:\n",
        "            loss = model.training_step(batch)\n",
        "            train_losses.append(loss)\n",
        "            loss.backward()\n",
        "            optimizer.step()\n",
        "            optimizer.zero_grad()\n",
        "        # Validation phase\n",
        "        result = evaluate(model, val_loader)\n",
        "        result['train_loss'] = torch.stack(train_losses).mean().item()\n",
        "        model.epoch_end(epoch, result)\n",
        "        history.append(result)\n",
        "    return history"
      ],
      "metadata": {
        "execution": {
          "iopub.status.busy": "2022-07-08T04:06:42.512172Z",
          "iopub.execute_input": "2022-07-08T04:06:42.512846Z",
          "iopub.status.idle": "2022-07-08T04:06:42.522176Z",
          "shell.execute_reply.started": "2022-07-08T04:06:42.512798Z",
          "shell.execute_reply": "2022-07-08T04:06:42.521103Z"
        },
        "trusted": true,
        "id": "6cZ0Ar3pB8ri"
      },
      "execution_count": null,
      "outputs": []
    },
    {
      "cell_type": "code",
      "source": [
        "model = to_device(GenderCnnModel(), device)"
      ],
      "metadata": {
        "execution": {
          "iopub.status.busy": "2022-07-08T04:06:43.534588Z",
          "iopub.execute_input": "2022-07-08T04:06:43.535248Z",
          "iopub.status.idle": "2022-07-08T04:06:43.598067Z",
          "shell.execute_reply.started": "2022-07-08T04:06:43.535211Z",
          "shell.execute_reply": "2022-07-08T04:06:43.597015Z"
        },
        "trusted": true,
        "id": "zIJRyCx6B8ri"
      },
      "execution_count": null,
      "outputs": []
    },
    {
      "cell_type": "code",
      "source": [
        "evaluate(model, val_dl)"
      ],
      "metadata": {
        "execution": {
          "iopub.status.busy": "2022-07-08T04:06:44.190483Z",
          "iopub.execute_input": "2022-07-08T04:06:44.193041Z",
          "iopub.status.idle": "2022-07-08T04:06:53.574101Z",
          "shell.execute_reply.started": "2022-07-08T04:06:44.193001Z",
          "shell.execute_reply": "2022-07-08T04:06:53.572919Z"
        },
        "trusted": true,
        "id": "AOmZVe9YB8ri"
      },
      "execution_count": null,
      "outputs": []
    },
    {
      "cell_type": "code",
      "source": [
        "model"
      ],
      "metadata": {
        "execution": {
          "iopub.status.busy": "2022-07-08T04:06:53.576772Z",
          "iopub.execute_input": "2022-07-08T04:06:53.577479Z",
          "iopub.status.idle": "2022-07-08T04:06:53.585460Z",
          "shell.execute_reply.started": "2022-07-08T04:06:53.577437Z",
          "shell.execute_reply": "2022-07-08T04:06:53.583913Z"
        },
        "trusted": true,
        "id": "qW9rVbj0B8ri"
      },
      "execution_count": null,
      "outputs": []
    },
    {
      "cell_type": "markdown",
      "source": [
        "The initial accuracy is 0.0 because the model was initialized without training. \n",
        "We can tune the hyperparameters eg \n",
        "* epoch number, \n",
        "* learning rate \n",
        "* and optimizer "
      ],
      "metadata": {
        "id": "NrIDobycB8ri"
      }
    },
    {
      "cell_type": "code",
      "source": [
        "num_epochs = 10\n",
        "opt_func = torch.optim.Adam\n",
        "lr = 0.001"
      ],
      "metadata": {
        "execution": {
          "iopub.status.busy": "2022-07-08T04:06:59.177449Z",
          "iopub.execute_input": "2022-07-08T04:06:59.178450Z",
          "iopub.status.idle": "2022-07-08T04:06:59.184059Z",
          "shell.execute_reply.started": "2022-07-08T04:06:59.178412Z",
          "shell.execute_reply": "2022-07-08T04:06:59.182753Z"
        },
        "trusted": true,
        "id": "tbsZ3AphB8rj"
      },
      "execution_count": null,
      "outputs": []
    },
    {
      "cell_type": "markdown",
      "source": [
        "Jovian platform provides the method for recording the above parameters as it is important to record the hyperparameters of every experiment you do, to replicate it later and compare it against other experiments."
      ],
      "metadata": {
        "id": "Gulag2hbB8rj"
      }
    },
    {
      "cell_type": "code",
      "source": [
        "jovian.reset()\n",
        "jovian.log_hyperparams({\n",
        "    'num_epochs': num_epochs,\n",
        "    'opt_func': opt_func.__name__,\n",
        "    'batch_size': batch_size,\n",
        "    'lr': lr,\n",
        "})"
      ],
      "metadata": {
        "execution": {
          "iopub.status.busy": "2022-07-08T04:07:04.090061Z",
          "iopub.execute_input": "2022-07-08T04:07:04.090422Z",
          "iopub.status.idle": "2022-07-08T04:07:04.114233Z",
          "shell.execute_reply.started": "2022-07-08T04:07:04.090392Z",
          "shell.execute_reply": "2022-07-08T04:07:04.112793Z"
        },
        "trusted": true,
        "id": "P5FMhzm2B8rj"
      },
      "execution_count": null,
      "outputs": []
    },
    {
      "cell_type": "code",
      "source": [
        "# official training\n",
        "history = fit(num_epochs, lr, model, train_dl, val_dl, opt_func)"
      ],
      "metadata": {
        "execution": {
          "iopub.status.busy": "2022-07-08T04:07:05.847681Z",
          "iopub.execute_input": "2022-07-08T04:07:05.848779Z",
          "iopub.status.idle": "2022-07-08T04:15:20.193779Z",
          "shell.execute_reply.started": "2022-07-08T04:07:05.848729Z",
          "shell.execute_reply": "2022-07-08T04:15:20.191372Z"
        },
        "trusted": true,
        "id": "GA2BvvtrB8rj"
      },
      "execution_count": null,
      "outputs": []
    },
    {
      "cell_type": "markdown",
      "source": [
        "## Testing with individual images"
      ],
      "metadata": {
        "id": "5GbQ1W8EB8rj"
      }
    },
    {
      "cell_type": "code",
      "source": [
        "test_dataset = ImageFolder(data_dir+'Validation', transform=transform_face)\n"
      ],
      "metadata": {
        "execution": {
          "iopub.status.busy": "2022-07-08T04:15:20.196505Z",
          "iopub.execute_input": "2022-07-08T04:15:20.197088Z",
          "iopub.status.idle": "2022-07-08T04:15:20.269184Z",
          "shell.execute_reply.started": "2022-07-08T04:15:20.197044Z",
          "shell.execute_reply": "2022-07-08T04:15:20.268242Z"
        },
        "trusted": true,
        "id": "oQamOCZjB8rk"
      },
      "execution_count": null,
      "outputs": []
    },
    {
      "cell_type": "code",
      "source": [
        "def predict_image(img, model):\n",
        "    # Convert to a batch of 1\n",
        "    xb = to_device(img.unsqueeze(0), device)\n",
        "    # Get predictions from model\n",
        "    yb = model(xb)\n",
        "    # Pick index with highest probability\n",
        "    _, preds  = torch.max(yb, dim=1)\n",
        "    # Retrieve the class label\n",
        "    return test_dataset.classes[preds[0].item()]"
      ],
      "metadata": {
        "execution": {
          "iopub.status.busy": "2022-07-08T04:15:20.270692Z",
          "iopub.execute_input": "2022-07-08T04:15:20.271077Z",
          "iopub.status.idle": "2022-07-08T04:15:20.277132Z",
          "shell.execute_reply.started": "2022-07-08T04:15:20.271040Z",
          "shell.execute_reply": "2022-07-08T04:15:20.276073Z"
        },
        "trusted": true,
        "id": "AmwAobTSB8rk"
      },
      "execution_count": null,
      "outputs": []
    },
    {
      "cell_type": "code",
      "source": [
        "img, label = test_dataset[0]\n",
        "plt.imshow(img.permute(1, 2, 0))\n",
        "print('Label:', test_dataset.classes[label], ', Predicted:', predict_image(img, model))"
      ],
      "metadata": {
        "execution": {
          "iopub.status.busy": "2022-07-08T04:15:20.279809Z",
          "iopub.execute_input": "2022-07-08T04:15:20.280537Z",
          "iopub.status.idle": "2022-07-08T04:15:20.459850Z",
          "shell.execute_reply.started": "2022-07-08T04:15:20.280499Z",
          "shell.execute_reply": "2022-07-08T04:15:20.458893Z"
        },
        "trusted": true,
        "id": "w-z2SPN3B8rk"
      },
      "execution_count": null,
      "outputs": []
    },
    {
      "cell_type": "code",
      "source": [
        "img, label = test_dataset[9432]\n",
        "plt.imshow(img.permute(1, 2, 0))\n",
        "print('Label:', test_dataset.classes[label], ', Predicted:', predict_image(img, model))"
      ],
      "metadata": {
        "execution": {
          "iopub.status.busy": "2022-07-08T04:15:20.461493Z",
          "iopub.execute_input": "2022-07-08T04:15:20.461833Z",
          "iopub.status.idle": "2022-07-08T04:15:20.641762Z",
          "shell.execute_reply.started": "2022-07-08T04:15:20.461798Z",
          "shell.execute_reply": "2022-07-08T04:15:20.640848Z"
        },
        "trusted": true,
        "id": "omrzAtnmB8rk"
      },
      "execution_count": null,
      "outputs": []
    },
    {
      "cell_type": "code",
      "source": [
        ""
      ],
      "metadata": {
        "id": "0NykZbcEB8rk"
      },
      "execution_count": null,
      "outputs": []
    },
    {
      "cell_type": "markdown",
      "source": [
        "## Conclusion"
      ],
      "metadata": {
        "id": "KvL0oTqgB8rk"
      }
    },
    {
      "cell_type": "code",
      "source": [
        ""
      ],
      "metadata": {
        "id": "jJ4_uJwpB8rl"
      },
      "execution_count": null,
      "outputs": []
    }
  ]
}