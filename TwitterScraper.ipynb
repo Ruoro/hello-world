{
  "nbformat": 4,
  "nbformat_minor": 0,
  "metadata": {
    "colab": {
      "name": "TwitterScraper.ipynb",
      "provenance": []
    },
    "kernelspec": {
      "name": "python3",
      "display_name": "Python 3"
    },
    "language_info": {
      "name": "python"
    }
  },
  "cells": [
    {
      "cell_type": "code",
      "metadata": {
        "colab": {
          "base_uri": "https://localhost:8080/"
        },
        "id": "yLJ195sQOjZA",
        "outputId": "73c3b6f7-4b3b-4d8f-a08f-80c386d47e11"
      },
      "source": [
        "!pip install tweepy"
      ],
      "execution_count": null,
      "outputs": [
        {
          "output_type": "stream",
          "text": [
            "Requirement already satisfied: tweepy in /usr/local/lib/python3.7/dist-packages (3.10.0)\n",
            "Requirement already satisfied: six>=1.10.0 in /usr/local/lib/python3.7/dist-packages (from tweepy) (1.15.0)\n",
            "Requirement already satisfied: requests[socks]>=2.11.1 in /usr/local/lib/python3.7/dist-packages (from tweepy) (2.23.0)\n",
            "Requirement already satisfied: requests-oauthlib>=0.7.0 in /usr/local/lib/python3.7/dist-packages (from tweepy) (1.3.0)\n",
            "Requirement already satisfied: oauthlib>=3.0.0 in /usr/local/lib/python3.7/dist-packages (from requests-oauthlib>=0.7.0->tweepy) (3.1.1)\n",
            "Requirement already satisfied: urllib3!=1.25.0,!=1.25.1,<1.26,>=1.21.1 in /usr/local/lib/python3.7/dist-packages (from requests[socks]>=2.11.1->tweepy) (1.24.3)\n",
            "Requirement already satisfied: idna<3,>=2.5 in /usr/local/lib/python3.7/dist-packages (from requests[socks]>=2.11.1->tweepy) (2.10)\n",
            "Requirement already satisfied: chardet<4,>=3.0.2 in /usr/local/lib/python3.7/dist-packages (from requests[socks]>=2.11.1->tweepy) (3.0.4)\n",
            "Requirement already satisfied: certifi>=2017.4.17 in /usr/local/lib/python3.7/dist-packages (from requests[socks]>=2.11.1->tweepy) (2021.5.30)\n",
            "Requirement already satisfied: PySocks!=1.5.7,>=1.5.6 in /usr/local/lib/python3.7/dist-packages (from requests[socks]>=2.11.1->tweepy) (1.7.1)\n"
          ],
          "name": "stdout"
        }
      ]
    },
    {
      "cell_type": "code",
      "metadata": {
        "id": "JJGCWcF5OtCf"
      },
      "source": [
        "import os\n",
        "import tweepy as tw\n"
      ],
      "execution_count": null,
      "outputs": []
    },
    {
      "cell_type": "code",
      "metadata": {
        "id": "FLKit-edPfhr"
      },
      "source": [
        "consumer_key = '91LtHt5fNCABkeWzDDqQZG7eN'\n",
        "consumer_secret = 'g1GTpyuGwxWL88LcYf0smr5BQCkVbdxHAu5wCICOT7hY7Ij2b3'\n",
        "access_token = '771329002460082177-WsdjXnzEuexqRWLBXia9PPBpLmcUMN9'\n",
        "access_token_secret = 'ImxLRfnQmMR8p6wVRkjyR5rWC8cAlFEEfq5jwFWnkUrzE'\n",
        "\n",
        "\n",
        "auth = tw.OAuthHandler(consumer_key, consumer_secret)\n",
        "auth.set_access_token(access_token, access_token_secret)\n",
        "api = tw.API(auth,wait_on_rate_limit=True)"
      ],
      "execution_count": null,
      "outputs": []
    },
    {
      "cell_type": "code",
      "metadata": {
        "id": "32qsyk8BQukt"
      },
      "source": [
        "search_words = [\"#MentalHealth\"]\n",
        "date_since = \"2020-01-01\""
      ],
      "execution_count": null,
      "outputs": []
    },
    {
      "cell_type": "code",
      "metadata": {
        "colab": {
          "base_uri": "https://localhost:8080/"
        },
        "id": "psV_Vb7SSKl2",
        "outputId": "472cf4cc-e50a-4516-98c4-d7678b1b8130"
      },
      "source": [
        "tweets = tw.Cursor(api.search,\n",
        "                       q=search_words,\n",
        "                       lang=\"en\",\n",
        "                       since=date_since).items(1000)\n",
        "tweets"
      ],
      "execution_count": null,
      "outputs": [
        {
          "output_type": "execute_result",
          "data": {
            "text/plain": [
              "<tweepy.cursor.ItemIterator at 0x7f31602d1050>"
            ]
          },
          "metadata": {
            "tags": []
          },
          "execution_count": 5
        }
      ]
    },
    {
      "cell_type": "code",
      "metadata": {
        "colab": {
          "base_uri": "https://localhost:8080/",
          "height": 908
        },
        "id": "7IswZ1GFVA6W",
        "outputId": "6b4d3df2-3db2-48df-f6e6-4b13a3d9e80b"
      },
      "source": [
        "import pandas as pd\n",
        "users_locs = [[tweet.user.screen_name,\n",
        "               tweet.text,\n",
        "               tweet.user.location,\n",
        "               tweet.user.description,\n",
        "               tweet.user.friends_count,\n",
        "               tweet.user.followers_count,\n",
        "               tweet.user.statuses_count,\n",
        "               tweet.user.created_at,\n",
        "               tweet.retweet_count, \n",
        "               tweet.entities['hashtags']] for tweet in tweets]\n",
        "users_locs\n",
        "\n",
        "tweet_text = pd.DataFrame(data=users_locs, \n",
        "                    columns=['user', 'tweet',\"location\", 'description','friends_count','followers_count', \n",
        "                             'statuses_count', 'created_at', 'retweet_count', 'hashtags'])\n",
        "tweet_text"
      ],
      "execution_count": null,
      "outputs": [
        {
          "output_type": "execute_result",
          "data": {
            "text/html": [
              "<div>\n",
              "<style scoped>\n",
              "    .dataframe tbody tr th:only-of-type {\n",
              "        vertical-align: middle;\n",
              "    }\n",
              "\n",
              "    .dataframe tbody tr th {\n",
              "        vertical-align: top;\n",
              "    }\n",
              "\n",
              "    .dataframe thead th {\n",
              "        text-align: right;\n",
              "    }\n",
              "</style>\n",
              "<table border=\"1\" class=\"dataframe\">\n",
              "  <thead>\n",
              "    <tr style=\"text-align: right;\">\n",
              "      <th></th>\n",
              "      <th>user</th>\n",
              "      <th>tweet</th>\n",
              "      <th>location</th>\n",
              "      <th>description</th>\n",
              "      <th>friends_count</th>\n",
              "      <th>followers_count</th>\n",
              "      <th>statuses_count</th>\n",
              "      <th>created_at</th>\n",
              "      <th>retweet_count</th>\n",
              "      <th>hashtags</th>\n",
              "    </tr>\n",
              "  </thead>\n",
              "  <tbody>\n",
              "    <tr>\n",
              "      <th>0</th>\n",
              "      <td>tatendachirisa</td>\n",
              "      <td>RT @AfricaEsh: \"Risks are not all the same acr...</td>\n",
              "      <td>zimbabwe</td>\n",
              "      <td>a christian, a sheq graduate trainee and an en...</td>\n",
              "      <td>218</td>\n",
              "      <td>57</td>\n",
              "      <td>93</td>\n",
              "      <td>2014-08-24 12:30:59</td>\n",
              "      <td>2</td>\n",
              "      <td>[]</td>\n",
              "    </tr>\n",
              "    <tr>\n",
              "      <th>1</th>\n",
              "      <td>loveISlove_tpwk</td>\n",
              "      <td>RT @C_Angermayer: \"Our vision is simple: build...</td>\n",
              "      <td>mam's ♡₊•˖</td>\n",
              "      <td></td>\n",
              "      <td>1000</td>\n",
              "      <td>811</td>\n",
              "      <td>15942</td>\n",
              "      <td>2019-10-03 13:54:43</td>\n",
              "      <td>2007</td>\n",
              "      <td>[{'text': 'mentalhealth', 'indices': [59, 72]}...</td>\n",
              "    </tr>\n",
              "    <tr>\n",
              "      <th>2</th>\n",
              "      <td>chiaxiong</td>\n",
              "      <td>RT @harrypetsanis: \"Listening is a logical pro...</td>\n",
              "      <td>Milwaukee, WI</td>\n",
              "      <td>Singularity, Energy Independence, Economic Env...</td>\n",
              "      <td>1163</td>\n",
              "      <td>5915</td>\n",
              "      <td>60289</td>\n",
              "      <td>2011-02-16 21:44:17</td>\n",
              "      <td>12</td>\n",
              "      <td>[]</td>\n",
              "    </tr>\n",
              "    <tr>\n",
              "      <th>3</th>\n",
              "      <td>susanleigh1</td>\n",
              "      <td>As many young people reflect on their options,...</td>\n",
              "      <td>United Kingdom</td>\n",
              "      <td>Counsellor &amp; Hypnotherapist,Altrincham, South ...</td>\n",
              "      <td>1024</td>\n",
              "      <td>1933</td>\n",
              "      <td>16490</td>\n",
              "      <td>2009-02-15 19:27:10</td>\n",
              "      <td>0</td>\n",
              "      <td>[]</td>\n",
              "    </tr>\n",
              "    <tr>\n",
              "      <th>4</th>\n",
              "      <td>WiltsPolYouth</td>\n",
              "      <td>Best of luck to all getting their #GCSEs today...</td>\n",
              "      <td>Wiltshire</td>\n",
              "      <td>Official Twitter page for the Youth and Early ...</td>\n",
              "      <td>461</td>\n",
              "      <td>814</td>\n",
              "      <td>2654</td>\n",
              "      <td>2016-02-15 14:04:18</td>\n",
              "      <td>0</td>\n",
              "      <td>[{'text': 'GCSEs', 'indices': [34, 40]}]</td>\n",
              "    </tr>\n",
              "    <tr>\n",
              "      <th>...</th>\n",
              "      <td>...</td>\n",
              "      <td>...</td>\n",
              "      <td>...</td>\n",
              "      <td>...</td>\n",
              "      <td>...</td>\n",
              "      <td>...</td>\n",
              "      <td>...</td>\n",
              "      <td>...</td>\n",
              "      <td>...</td>\n",
              "      <td>...</td>\n",
              "    </tr>\n",
              "    <tr>\n",
              "      <th>995</th>\n",
              "      <td>CoachPerry59</td>\n",
              "      <td>RT @RightToPlayIntl: \"Estimates show that one ...</td>\n",
              "      <td>BC, Canada</td>\n",
              "      <td>Award winning hockey coach (University&amp;FMAAA) ...</td>\n",
              "      <td>5000</td>\n",
              "      <td>1103</td>\n",
              "      <td>8207</td>\n",
              "      <td>2009-06-18 00:10:29</td>\n",
              "      <td>3</td>\n",
              "      <td>[]</td>\n",
              "    </tr>\n",
              "    <tr>\n",
              "      <th>996</th>\n",
              "      <td>stephanietara</td>\n",
              "      <td>RT @EloualiSabrine: @stephanietara Here’s my p...</td>\n",
              "      <td>San Francisco</td>\n",
              "      <td>Stephanie Lisa Tara Children's Books® ❤️❤️❤️❤️...</td>\n",
              "      <td>5000</td>\n",
              "      <td>3829</td>\n",
              "      <td>31606</td>\n",
              "      <td>2009-05-01 00:27:00</td>\n",
              "      <td>0</td>\n",
              "      <td>[{'text': 'mentalhealth', 'indices': [94, 107]}]</td>\n",
              "    </tr>\n",
              "    <tr>\n",
              "      <th>997</th>\n",
              "      <td>UKNo1SalesCoach</td>\n",
              "      <td>RT @EuphorianCoach: This cool chick has got it...</td>\n",
              "      <td>Island Of Gods, BALI</td>\n",
              "      <td>9/10 Coaches Are Back in a 9-5 within a year. ...</td>\n",
              "      <td>84</td>\n",
              "      <td>105</td>\n",
              "      <td>115</td>\n",
              "      <td>2021-02-26 09:22:11</td>\n",
              "      <td>1</td>\n",
              "      <td>[{'text': 'TheWork', 'indices': [59, 67]}, {'t...</td>\n",
              "    </tr>\n",
              "    <tr>\n",
              "      <th>998</th>\n",
              "      <td>bpdvideo</td>\n",
              "      <td>Missed Opportunities.\\n\\nIf Only We Had Known:...</td>\n",
              "      <td></td>\n",
              "      <td>BPDvideo supports people with BPD, their famil...</td>\n",
              "      <td>5148</td>\n",
              "      <td>4922</td>\n",
              "      <td>12430</td>\n",
              "      <td>2011-12-23 23:26:04</td>\n",
              "      <td>0</td>\n",
              "      <td>[]</td>\n",
              "    </tr>\n",
              "    <tr>\n",
              "      <th>999</th>\n",
              "      <td>OnPurposeMarke1</td>\n",
              "      <td>“Fall seven times stand up eight. Hey! You've ...</td>\n",
              "      <td>Dayton, OH 🛒</td>\n",
              "      <td>#OnPurposeMarketplace provides motivational ap...</td>\n",
              "      <td>712</td>\n",
              "      <td>97</td>\n",
              "      <td>494</td>\n",
              "      <td>2020-12-07 18:08:54</td>\n",
              "      <td>0</td>\n",
              "      <td>[]</td>\n",
              "    </tr>\n",
              "  </tbody>\n",
              "</table>\n",
              "<p>1000 rows × 10 columns</p>\n",
              "</div>"
            ],
            "text/plain": [
              "                user  ...                                           hashtags\n",
              "0     tatendachirisa  ...                                                 []\n",
              "1    loveISlove_tpwk  ...  [{'text': 'mentalhealth', 'indices': [59, 72]}...\n",
              "2          chiaxiong  ...                                                 []\n",
              "3        susanleigh1  ...                                                 []\n",
              "4      WiltsPolYouth  ...           [{'text': 'GCSEs', 'indices': [34, 40]}]\n",
              "..               ...  ...                                                ...\n",
              "995     CoachPerry59  ...                                                 []\n",
              "996    stephanietara  ...   [{'text': 'mentalhealth', 'indices': [94, 107]}]\n",
              "997  UKNo1SalesCoach  ...  [{'text': 'TheWork', 'indices': [59, 67]}, {'t...\n",
              "998         bpdvideo  ...                                                 []\n",
              "999  OnPurposeMarke1  ...                                                 []\n",
              "\n",
              "[1000 rows x 10 columns]"
            ]
          },
          "metadata": {
            "tags": []
          },
          "execution_count": 6
        }
      ]
    }
  ]
}